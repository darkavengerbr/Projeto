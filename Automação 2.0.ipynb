{
 "cells": [
  {
   "cell_type": "code",
   "execution_count": 40,
   "id": "8cdb9120",
   "metadata": {},
   "outputs": [
    {
     "name": "stdout",
     "output_type": "stream",
     "text": [
      "4.9345\n",
      "5.889863610000001\n",
      "282.62\n"
     ]
    }
   ],
   "source": [
    "from selenium import webdriver\n",
    "from selenium.webdriver.common.keys import Keys\n",
    "import pandas as pd\n",
    "from selenium.webdriver.chrome.options import Options\n",
    "\n",
    "\n",
    "chrome_options = Options()\n",
    "chrome_options.headless = True\n",
    "navegador = webdriver.Chrome(options=chrome_options)\n",
    "\n",
    "# Passo 1: Abrir navegador:\n",
    "navegador = webdriver.Chrome()\n",
    "navegador.get('https://www.google.com')\n",
    "\n",
    "# Passo 1.1: Dólar\n",
    "navegador.find_element_by_xpath(\n",
    "    '/html/body/div[1]/div[3]/form/div[1]/div[1]/div[1]/div/div[2]/input').send_keys('cotação dólar')\n",
    "navegador.find_element_by_xpath(\n",
    "    '/html/body/div[1]/div[3]/form/div[1]/div[1]/div[1]/div/div[2]/input').send_keys(Keys.ENTER)\n",
    "dólar = navegador.find_element_by_xpath(\n",
    "    '//*[@id=\"knowledge-currency__updatable-data-column\"]/div[1]/div[2]/span[1]').get_attribute('data-value')\n",
    "print(dólar)\n",
    "\n",
    "# Passo 1.2: Euro\n",
    "navegador.get('https://www.google.com')\n",
    "navegador.find_element_by_xpath(\n",
    "    '/html/body/div[1]/div[3]/form/div[1]/div[1]/div[1]/div/div[2]/input').send_keys('cotação euro')\n",
    "navegador.find_element_by_xpath(\n",
    "    '/html/body/div[1]/div[3]/form/div[1]/div[1]/div[1]/div/div[2]/input').send_keys(Keys.ENTER)\n",
    "euro = navegador.find_element_by_xpath(\n",
    "    '//*[@id=\"knowledge-currency__updatable-data-column\"]/div[1]/div[2]/span[1]').get_attribute('data-value')\n",
    "\n",
    "print(euro)\n",
    "\n",
    "# Passo 1.3: Ouro\n",
    "navegador.get('https://www.melhorcambio.com/ouro-hoje#:~:text=O%20valor%20do%20grama%20do,em%20R%24%20282%2C62.')\n",
    "ouro = navegador.find_element_by_xpath(\n",
    "'//*[@id=\"comercial\"]').get_attribute('value')\n",
    "ouro = ouro.replace(',', '.')\n",
    "print(ouro)\n",
    "\n",
    "navegador.quit()\n",
    "\n",
    "# Passo 2: Importar a lista de produtos\n",
    "tabela = pd.read_excel('Produtos.xlsx')\n",
    "\n",
    "# Passo 3: Recalcular o preço de cada produto\n",
    "# Passo 3.1: Atualizar as cotações\n",
    "tabela.loc[tabela['Moeda'] == 'Dólar', 'Cotação'] = float(dólar)\n",
    "tabela.loc[tabela['Moeda'] == 'Euro', 'Cotação'] = float(euro)\n",
    "tabela.loc[tabela['Moeda'] == 'Ouro', 'Cotação'] = float(ouro)\n",
    "\n",
    "# Passo 3.2: Atualizar o preço base:\n",
    "tabela['Preço Base Reais'] = tabela['Preço Base Original'] * tabela['Cotação']\n",
    "\n",
    "\n",
    "# Passo 3.3: Atualizar o preço final:\n",
    "tabela['Preço Final'] = tabela['Preço Base Reais'] * tabela['Margem']\n",
    "\n",
    "# Passo 4: Salvar os novos preços\n",
    "tabela.to_excel('Produtos_n.xlsx', index=False)\n",
    "\n",
    "\n"
   ]
  },
  {
   "cell_type": "code",
   "execution_count": null,
   "id": "4daa2a29",
   "metadata": {},
   "outputs": [],
   "source": []
  },
  {
   "cell_type": "code",
   "execution_count": null,
   "id": "4ab671cc",
   "metadata": {},
   "outputs": [],
   "source": []
  }
 ],
 "metadata": {
  "kernelspec": {
   "display_name": "Python 3",
   "language": "python",
   "name": "python3"
  },
  "language_info": {
   "codemirror_mode": {
    "name": "ipython",
    "version": 3
   },
   "file_extension": ".py",
   "mimetype": "text/x-python",
   "name": "python",
   "nbconvert_exporter": "python",
   "pygments_lexer": "ipython3",
   "version": "3.8.8"
  }
 },
 "nbformat": 4,
 "nbformat_minor": 5
}
